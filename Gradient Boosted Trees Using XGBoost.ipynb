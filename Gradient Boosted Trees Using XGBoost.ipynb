{
 "cells": [
  {
   "cell_type": "markdown",
   "metadata": {},
   "source": [
    "# Trees for defaults"
   ]
  },
  {
   "cell_type": "code",
   "execution_count": 26,
   "metadata": {},
   "outputs": [],
   "source": [
    "import pandas as pd\n",
    "import matplotlib.pyplot as plt\n",
    "import numpy as np\n",
    "import xgboost as xgb\n",
    "from sklearn.linear_model import LogisticRegression\n",
    "from sklearn.model_selection import train_test_split, cross_val_score\n",
    "from sklearn.metrics import classification_report, confusion_matrix, roc_auc_score"
   ]
  },
  {
   "cell_type": "code",
   "execution_count": 2,
   "metadata": {},
   "outputs": [],
   "source": [
    "cr_loan_prep = pd.read_csv(\"cr_loan_prep.csv\", index_col=0)"
   ]
  },
  {
   "cell_type": "code",
   "execution_count": 3,
   "metadata": {},
   "outputs": [],
   "source": [
    "X = cr_loan_prep.drop(columns=['loan_status'])\n",
    "y = cr_loan_prep['loan_status']\n",
    "\n",
    "# Use test_train_split to create the training and test sets\n",
    "X_train, X_test, y_train, y_test = train_test_split(X, y, test_size=.4, random_state=123)\n",
    "\n",
    "# Train a model\n",
    "clf_lr = LogisticRegression(solver='lbfgs').fit(X_train, np.ravel(y_train))\n",
    "clf_gbt = xgb.XGBClassifier().fit(X_train, np.ravel(y_train))\n",
    "\n",
    "# Predict with a model\n",
    "lr_preds = clf_lr.predict_proba(X_test)\n",
    "gbt_preds = clf_gbt.predict_proba(X_test)"
   ]
  },
  {
   "cell_type": "markdown",
   "metadata": {},
   "source": [
    "# Gradient boosted portfolio performance"
   ]
  },
  {
   "cell_type": "code",
   "execution_count": 4,
   "metadata": {},
   "outputs": [],
   "source": [
    "portfolio = pd.concat([pd.Series(lr_preds[:,1],), pd.Series(gbt_preds[:,1])], axis=1)\n",
    "portfolio.rename(columns={0:'lr_prob_default', 1:'gbt_prob_default'}, inplace=True)\n",
    "portfolio['lgd'] = 0.2\n",
    "portfolio['loan_amnt'] = X_test['loan_amnt'].values"
   ]
  },
  {
   "cell_type": "code",
   "execution_count": 5,
   "metadata": {},
   "outputs": [
    {
     "name": "stdout",
     "output_type": "stream",
     "text": [
      "   lr_prob_default  gbt_prob_default  lgd  loan_amnt\n",
      "0         0.130012          0.011106  0.2       9000\n",
      "1         0.059754          0.167985  0.2       4000\n",
      "2         0.129564          0.002628  0.2       6300\n",
      "3         0.456964          0.063230  0.2      12400\n",
      "4         0.376612          0.189694  0.2       7500\n",
      "LR expected loss:  5500678.4851673525\n",
      "GBT expected loss:  5408946.914417118\n"
     ]
    }
   ],
   "source": [
    "# Print the first five rows of the portfolio data frame\n",
    "print(portfolio.head())\n",
    "\n",
    "# Create expected loss columns for each model using the formula\n",
    "portfolio['lr_expected_loss'] = portfolio['lr_prob_default'] * portfolio['lgd'] * portfolio['loan_amnt']\n",
    "portfolio['gbt_expected_loss'] = portfolio['gbt_prob_default'] * portfolio['lgd'] * portfolio['loan_amnt']\n",
    "\n",
    "# Print the sum of the expected loss for lr\n",
    "print('LR expected loss: ', np.sum(portfolio['lr_expected_loss']))\n",
    "\n",
    "# Print the sum of the expected loss for gbt\n",
    "print('GBT expected loss: ', np.sum(portfolio['gbt_expected_loss']))"
   ]
  },
  {
   "cell_type": "markdown",
   "metadata": {},
   "source": [
    "It looks like the total expected loss for the XGBClassifier() model is quite a bit higher. When we talk about accuracy and precision, the goal is to generate models which have a low expected loss. Looking at a classification_report() helps as well."
   ]
  },
  {
   "cell_type": "markdown",
   "metadata": {},
   "source": [
    "# Assessing gradient boosted trees"
   ]
  },
  {
   "cell_type": "code",
   "execution_count": 6,
   "metadata": {},
   "outputs": [
    {
     "name": "stdout",
     "output_type": "stream",
     "text": [
      "[0 0 0 ... 0 0 0]\n",
      "[0 0 0 ... 1 0 0]\n",
      "              precision    recall  f1-score   support\n",
      "\n",
      " Non-Default       0.80      0.98      0.88      9177\n",
      "     Default       0.73      0.16      0.26      2609\n",
      "\n",
      "    accuracy                           0.80     11786\n",
      "   macro avg       0.76      0.57      0.57     11786\n",
      "weighted avg       0.79      0.80      0.75     11786\n",
      "\n",
      "              precision    recall  f1-score   support\n",
      "\n",
      " Non-Default       0.93      0.99      0.96      9177\n",
      "     Default       0.94      0.73      0.82      2609\n",
      "\n",
      "    accuracy                           0.93     11786\n",
      "   macro avg       0.94      0.86      0.89     11786\n",
      "weighted avg       0.93      0.93      0.93     11786\n",
      "\n"
     ]
    }
   ],
   "source": [
    "# Predict the labels for loan status\n",
    "lr_preds = clf_lr.predict(X_test)\n",
    "gbt_preds = clf_gbt.predict(X_test)\n",
    "\n",
    "# Check the values created by the predict method\n",
    "print(lr_preds)\n",
    "print(gbt_preds)\n",
    "\n",
    "# Print the classification report of the model\n",
    "target_names = ['Non-Default', 'Default']\n",
    "print(classification_report(y_test, lr_preds, target_names=target_names))\n",
    "print(classification_report(y_test, gbt_preds, target_names=target_names))"
   ]
  },
  {
   "cell_type": "markdown",
   "metadata": {},
   "source": [
    "# Column importance and default prediction\n",
    "\n",
    "When using multiple training sets with many different groups of columns, it's important to keep and eye on which columns matter and which do not. It can be expensive or time-consuming to maintain a set of columns even though they might not have any impact on *loan_status*."
   ]
  },
  {
   "cell_type": "code",
   "execution_count": 7,
   "metadata": {},
   "outputs": [
    {
     "name": "stdout",
     "output_type": "stream",
     "text": [
      "{'loan_percent_income': 529, 'loan_int_rate': 1046, 'person_income': 1314, 'loan_amnt': 527, 'person_home_ownership_MORTGAGE': 126, 'loan_grade_F': 11}\n"
     ]
    }
   ],
   "source": [
    "X = cr_loan_prep[['person_income','loan_int_rate',\n",
    "                  'loan_percent_income','loan_amnt',\n",
    "                  'person_home_ownership_MORTGAGE','loan_grade_F']]\n",
    "\n",
    "X_train, X_test, y_train, y_test = train_test_split(X, y, test_size=.4, random_state=123)\n",
    "\n",
    "# Create and train the model on the training data\n",
    "clf_gbt = xgb.XGBClassifier().fit(X_train,np.ravel(y_train))\n",
    "\n",
    "# Print the column importances from the model\n",
    "print(clf_gbt.get_booster().get_score(importance_type = 'weight'))"
   ]
  },
  {
   "cell_type": "markdown",
   "metadata": {},
   "source": [
    "So, the importance for loan_grade_F is only 11 in this case. This could be because there are so few of the F-grade loans. While the F-grade loans don't add much to predictions here, they might affect the importance of other training columns."
   ]
  },
  {
   "cell_type": "markdown",
   "metadata": {},
   "source": [
    "# Visualizing column importance\n",
    "\n",
    "Understanding how different columns are used to arrive at a *loan_status* prediction is very important for model interpretability."
   ]
  },
  {
   "cell_type": "code",
   "execution_count": 8,
   "metadata": {},
   "outputs": [],
   "source": [
    "X2 = cr_loan_prep[['loan_int_rate','person_emp_length']]\n",
    "X3 = cr_loan_prep[['person_income','loan_int_rate','loan_percent_income']]\n",
    "\n",
    "X2_train, X2_test, y_train, y_test = train_test_split(X2, y, test_size=.4, random_state=123)\n",
    "X3_train, X3_test, y_train, y_test = train_test_split(X3, y, test_size=.4, random_state=123)"
   ]
  },
  {
   "cell_type": "code",
   "execution_count": 9,
   "metadata": {},
   "outputs": [
    {
     "data": {
      "image/png": "[encoded data removed]",
      "text/plain": [
       "<Figure size 432x288 with 1 Axes>"
      ]
     },
     "metadata": {
      "needs_background": "light"
     },
     "output_type": "display_data"
    }
   ],
   "source": [
    "# Train a model on the X data with 2 columns\n",
    "clf_gbt2 = xgb.XGBClassifier().fit(X2_train,np.ravel(y_train))\n",
    "\n",
    "# Plot the column importance for this model\n",
    "xgb.plot_importance(clf_gbt2, importance_type = 'weight')\n",
    "plt.show()"
   ]
  },
  {
   "cell_type": "code",
   "execution_count": 10,
   "metadata": {},
   "outputs": [
    {
     "data": {
      "image/png": "[encoded data removed]",
      "text/plain": [
       "<Figure size 432x288 with 1 Axes>"
      ]
     },
     "metadata": {
      "needs_background": "light"
     },
     "output_type": "display_data"
    }
   ],
   "source": [
    "# Train a model on the X data with 3 columns\n",
    "clf_gbt3 = xgb.XGBClassifier().fit(X3_train,np.ravel(y_train))\n",
    "\n",
    "# Plot the column importance for this model\n",
    "xgb.plot_importance(clf_gbt3, importance_type = 'weight')\n",
    "plt.show()"
   ]
  },
  {
   "cell_type": "markdown",
   "metadata": {},
   "source": [
    "Initially, *loan_int_rate* was the most important column, but *person_income* ended up taking the top spot here."
   ]
  },
  {
   "cell_type": "markdown",
   "metadata": {},
   "source": [
    "# Column selection and model performance\n",
    "\n",
    "Creating the training set from different combinations of columns affects the model and the importance values of the columns. Does a different selection of columns also affect the F-1 scores, the combination of the precision and recall, of the model? We can answer this question by training two different models on two different sets of columns, and checking the performance.\n",
    "\n",
    "Inaccurately predicting defaults as non-default can result in unexpected losses if the probability of default for these loans was very low. We can use the F-1 score for defaults to see how the models will accurately predict the defaults."
   ]
  },
  {
   "cell_type": "code",
   "execution_count": 11,
   "metadata": {},
   "outputs": [],
   "source": [
    "X = cr_loan_prep[['person_income', 'loan_int_rate', 'loan_percent_income', 'loan_amnt', 'person_home_ownership_MORTGAGE']]\n",
    "X2 = cr_loan_prep[['person_income', 'loan_int_rate', 'loan_percent_income', 'person_emp_length', 'person_home_ownership_RENT']]\n",
    "\n",
    "X_train, X_test, y_train, y_test = train_test_split(X, y, test_size=.4, random_state=123)\n",
    "X2_train, X2_test, y_train, y_test = train_test_split(X2, y, test_size=.4, random_state=123)\n",
    "\n",
    "gbt = xgb.XGBClassifier().fit(X_train,np.ravel(y_train))\n",
    "gbt2 = xgb.XGBClassifier().fit(X2_train,np.ravel(y_train))"
   ]
  },
  {
   "cell_type": "code",
   "execution_count": 12,
   "metadata": {},
   "outputs": [
    {
     "name": "stdout",
     "output_type": "stream",
     "text": [
      "              precision    recall  f1-score   support\n",
      "\n",
      " Non-Default       0.91      0.96      0.93      9177\n",
      "     Default       0.81      0.66      0.73      2609\n",
      "\n",
      "    accuracy                           0.89     11786\n",
      "   macro avg       0.86      0.81      0.83     11786\n",
      "weighted avg       0.89      0.89      0.89     11786\n",
      "\n",
      "              precision    recall  f1-score   support\n",
      "\n",
      " Non-Default       0.91      0.98      0.94      9177\n",
      "     Default       0.90      0.65      0.75      2609\n",
      "\n",
      "    accuracy                           0.91     11786\n",
      "   macro avg       0.90      0.81      0.85     11786\n",
      "weighted avg       0.90      0.91      0.90     11786\n",
      "\n"
     ]
    }
   ],
   "source": [
    "# Predict the loan_status using each model\n",
    "gbt_preds = gbt.predict(X_test)\n",
    "gbt2_preds = gbt2.predict(X2_test)\n",
    "\n",
    "# Print the classification report of the first model\n",
    "target_names = ['Non-Default', 'Default']\n",
    "print(classification_report(y_test, gbt_preds, target_names=target_names))\n",
    "\n",
    "# Print the classification report of the second model\n",
    "print(classification_report(y_test, gbt2_preds, target_names=target_names))"
   ]
  },
  {
   "cell_type": "markdown",
   "metadata": {},
   "source": [
    "It looked like the selection of columns affected model accuracy the most, but now we see that the selection of columns also affects recall by quite a bit"
   ]
  },
  {
   "cell_type": "markdown",
   "metadata": {},
   "source": [
    "# Cross validating credit models\n",
    "\n",
    "Credit loans and their data change over time, and it won't always look like what's been loaded into the current test sets. So, we can use cross-validation to try several smaller training and test sets which are derived from the original *X_train* and *y_train*."
   ]
  },
  {
   "cell_type": "code",
   "execution_count": 13,
   "metadata": {},
   "outputs": [
    {
     "name": "stdout",
     "output_type": "stream",
     "text": [
      "   train-auc-mean  train-auc-std  test-auc-mean  test-auc-std\n",
      "0        0.903058       0.001980       0.898697      0.008435\n",
      "1        0.909570       0.001214       0.903772      0.007847\n",
      "2        0.913940       0.001938       0.908188      0.007294\n",
      "3        0.918344       0.001861       0.911168      0.006633\n",
      "4        0.922192       0.001223       0.915421      0.007330\n"
     ]
    }
   ],
   "source": [
    "X = cr_loan_prep.drop(columns=['loan_status'])\n",
    "X_train, X_test, y_train, y_test = train_test_split(X, y, test_size=.4, random_state=123)\n",
    "params = {'eval_metric': 'auc', 'objective': 'binary:logistic', 'seed': 123}\n",
    "\n",
    "# Set the values for number of folds and stopping iterations\n",
    "n_folds = 5\n",
    "early_stopping = 10\n",
    "\n",
    "# Create the DTrain matrix for XGBoost\n",
    "Dtrain = xgb.DMatrix(X_train, label = y_train)\n",
    "\n",
    "# Create the data frame of cross validations\n",
    "cv_df = xgb.cv(params, Dtrain, num_boost_round = 5, nfold=n_folds,\n",
    "            early_stopping_rounds=early_stopping)\n",
    "\n",
    "# Print the cross validations data frame\n",
    "print(cv_df)"
   ]
  },
  {
   "cell_type": "markdown",
   "metadata": {},
   "source": [
    "# Limits to cross-validation testing"
   ]
  },
  {
   "cell_type": "code",
   "execution_count": 14,
   "metadata": {},
   "outputs": [
    {
     "name": "stdout",
     "output_type": "stream",
     "text": [
      "   train-auc-mean  train-auc-std  test-auc-mean  test-auc-std\n",
      "0        0.903207       0.001835       0.898498      0.007795\n",
      "1        0.909165       0.001227       0.904436      0.009030\n",
      "2        0.913430       0.001430       0.908275      0.009130\n",
      "3        0.917865       0.000877       0.911602      0.009454\n",
      "4        0.921801       0.000827       0.915208      0.009788\n",
      "0.945127817166667\n"
     ]
    },
    {
     "data": {
      "image/png": "[encoded data removed]",
      "text/plain": [
       "<Figure size 432x288 with 1 Axes>"
      ]
     },
     "metadata": {
      "needs_background": "light"
     },
     "output_type": "display_data"
    }
   ],
   "source": [
    "Dtrain = xgb.DMatrix(X_train, label = y_train)\n",
    "cv_results_big = xgb.cv(params, Dtrain, num_boost_round = 600, nfold=10,\n",
    "            shuffle = True)\n",
    "\n",
    "# Print the first five rows of the CV results data frame\n",
    "print(cv_results_big.head())\n",
    "\n",
    "# Calculate the mean of the test AUC scores\n",
    "print(np.mean(cv_results_big['test-auc-mean']))\n",
    "\n",
    "\n",
    "# Plot the test AUC scores for each iteration\n",
    "plt.plot(cv_results_big['test-auc-mean'])\n",
    "plt.title('Test AUC Score Over 600 Iterations')\n",
    "plt.xlabel('Iteration Number')\n",
    "plt.ylabel('Test AUC Score')\n",
    "plt.show()"
   ]
  },
  {
   "cell_type": "markdown",
   "metadata": {},
   "source": [
    "Notice that the test AUC score never quite reaches 1.0 and begins to decrease slightly after 100 iterations. This is because this much cross-validation can actually cause the model to become overfit. So, there is a limit to how much cross-validation you should to."
   ]
  },
  {
   "cell_type": "markdown",
   "metadata": {},
   "source": [
    "# Cross-validation scoring"
   ]
  },
  {
   "cell_type": "code",
   "execution_count": 16,
   "metadata": {},
   "outputs": [
    {
     "name": "stdout",
     "output_type": "stream",
     "text": [
      "[0.93393665 0.93482688 0.93641095 0.93030097]\n",
      "Average accuracy: 0.934 (+/- 0.004)\n"
     ]
    }
   ],
   "source": [
    "# Create a gradient boosted tree model using two hyperparameters\n",
    "gbt = xgb.XGBClassifier(learning_rate= 0.1, max_depth= 7)\n",
    "\n",
    "# Calculate the cross validation scores for 4 folds\n",
    "cv_scores = cross_val_score(gbt, X_train, np.ravel(y_train), cv = 4)\n",
    "\n",
    "# Print the cross validation scores\n",
    "print(cv_scores)\n",
    "\n",
    "# Print the average accuracy and standard deviation of the scores\n",
    "print(\"Average accuracy: %0.3f (+/- %0.3f)\" % (cv_scores.mean(),\n",
    "                                              cv_scores.std() * 2))"
   ]
  },
  {
   "cell_type": "markdown",
   "metadata": {},
   "source": [
    "With only a couple of hyperparameters and cross-validation, we can get the average accuracy up to 93%. This is a great way to validate how robust the model is."
   ]
  },
  {
   "cell_type": "markdown",
   "metadata": {},
   "source": [
    "# Undersampling training data"
   ]
  },
  {
   "cell_type": "code",
   "execution_count": 17,
   "metadata": {},
   "outputs": [],
   "source": [
    "X_y_train = pd.concat([X_train.reset_index(drop = True),\n",
    "                       y_train.reset_index(drop = True)], axis = 1)\n",
    "count_nondefault, count_default = X_y_train['loan_status'].value_counts()"
   ]
  },
  {
   "cell_type": "code",
   "execution_count": 19,
   "metadata": {},
   "outputs": [
    {
     "data": {
      "text/plain": [
       "0    13823\n",
       "1     3854\n",
       "Name: loan_status, dtype: int64"
      ]
     },
     "execution_count": 19,
     "metadata": {},
     "output_type": "execute_result"
    }
   ],
   "source": [
    "y_train.value_counts()"
   ]
  },
  {
   "cell_type": "code",
   "execution_count": 20,
   "metadata": {},
   "outputs": [
    {
     "name": "stdout",
     "output_type": "stream",
     "text": [
      "1    3854\n",
      "0    3854\n",
      "Name: loan_status, dtype: int64\n"
     ]
    }
   ],
   "source": [
    "# Create data sets for defaults and non-defaults\n",
    "nondefaults = X_y_train[X_y_train['loan_status'] == 0]\n",
    "defaults = X_y_train[X_y_train['loan_status'] == 1]\n",
    "\n",
    "# Undersample the non-defaults\n",
    "nondefaults_under = nondefaults.sample(count_default)\n",
    "\n",
    "# Concatenate the undersampled nondefaults with defaults\n",
    "X_y_train_under = pd.concat([nondefaults_under.reset_index(drop = True),\n",
    "                             defaults.reset_index(drop = True)], axis = 0)\n",
    "\n",
    "# Print the value counts for loan status\n",
    "print(X_y_train_under['loan_status'].value_counts())"
   ]
  },
  {
   "cell_type": "markdown",
   "metadata": {},
   "source": [
    "Our training set has an even number of defaults and non-defaults. Let's test out some machine learning models on this new undersampled data set and compare their performance to the models trained on the regular data set."
   ]
  },
  {
   "cell_type": "markdown",
   "metadata": {},
   "source": [
    "# Undersampled tree performance\n",
    "\n",
    "The performance of the model's predictions not only impact the probability of default on the test set, but also on the scoring of new loan applications as they come in. We also now know that it is even more important that the recall of defaults be high, because a default predicted as non-default is more costly."
   ]
  },
  {
   "cell_type": "code",
   "execution_count": 21,
   "metadata": {},
   "outputs": [
    {
     "name": "stdout",
     "output_type": "stream",
     "text": [
      "              precision    recall  f1-score   support\n",
      "\n",
      " Non-Default       0.91      0.96      0.93      9177\n",
      "     Default       0.81      0.66      0.73      2609\n",
      "\n",
      "    accuracy                           0.89     11786\n",
      "   macro avg       0.86      0.81      0.83     11786\n",
      "weighted avg       0.89      0.89      0.89     11786\n",
      "\n",
      "              precision    recall  f1-score   support\n",
      "\n",
      " Non-Default       0.91      0.98      0.94      9177\n",
      "     Default       0.90      0.65      0.75      2609\n",
      "\n",
      "    accuracy                           0.91     11786\n",
      "   macro avg       0.90      0.81      0.85     11786\n",
      "weighted avg       0.90      0.91      0.90     11786\n",
      "\n"
     ]
    }
   ],
   "source": [
    "# Check the classification reports\n",
    "target_names = ['Non-Default', 'Default']\n",
    "print(classification_report(y_test, gbt_preds, target_names=target_names))\n",
    "print(classification_report(y_test, gbt2_preds, target_names=target_names))"
   ]
  },
  {
   "cell_type": "code",
   "execution_count": 24,
   "metadata": {},
   "outputs": [
    {
     "name": "stdout",
     "output_type": "stream",
     "text": [
      "[[8779  398]\n",
      " [ 897 1712]]\n",
      "[[8987  190]\n",
      " [ 924 1685]]\n"
     ]
    }
   ],
   "source": [
    "# Print the confusion matrix for both old and new models\n",
    "print(confusion_matrix(y_test,gbt_preds))\n",
    "print(confusion_matrix(y_test,gbt2_preds))"
   ]
  },
  {
   "cell_type": "code",
   "execution_count": 27,
   "metadata": {},
   "outputs": [
    {
     "name": "stdout",
     "output_type": "stream",
     "text": [
      "0.8064104091782441\n",
      "0.8125686923827141\n"
     ]
    }
   ],
   "source": [
    "# Print and compare the AUC scores of the old and new models\n",
    "print(roc_auc_score(y_test, gbt_preds))\n",
    "print(roc_auc_score(y_test, gbt2_preds))"
   ]
  },
  {
   "cell_type": "markdown",
   "metadata": {},
   "source": [
    "Undersampling the training data results in more false positives, but the recall for defaults and the AUC score are both higher than the original model. This means overall it predicts defaults much more accurately."
   ]
  },
  {
   "cell_type": "code",
   "execution_count": null,
   "metadata": {},
   "outputs": [],
   "source": []
  }
 ],
 "metadata": {
  "kernelspec": {
   "display_name": "Python 3",
   "language": "python",
   "name": "python3"
  },
  "language_info": {
   "codemirror_mode": {
    "name": "ipython",
    "version": 3
   },
   "file_extension": ".py",
   "mimetype": "text/x-python",
   "name": "python",
   "nbconvert_exporter": "python",
   "pygments_lexer": "ipython3",
   "version": "3.7.6"
  }
 },
 "nbformat": 4,
 "nbformat_minor": 4
}
