{
 "cells": [
  {
   "cell_type": "markdown",
   "metadata": {},
   "source": [
    "# Comparing model reports\n",
    "\n",
    "We've used logistic regression models and gradient boosted trees. It's time to compare these two to see which model will be used to make the final predictions."
   ]
  },
  {
   "cell_type": "code",
   "execution_count": 1,
   "metadata": {},
   "outputs": [],
   "source": [
    "import pandas as pd\n",
    "import matplotlib.pyplot as plt\n",
    "import numpy as np\n",
    "import xgboost as xgb\n",
    "import warnings\n",
    "warnings.filterwarnings('ignore')\n",
    "from sklearn.linear_model import LogisticRegression\n",
    "from sklearn.model_selection import train_test_split\n",
    "from sklearn.metrics import classification_report, precision_recall_fscore_support, roc_curve, roc_auc_score\n",
    "from sklearn.calibration import calibration_curve"
   ]
  },
  {
   "cell_type": "code",
   "execution_count": 2,
   "metadata": {},
   "outputs": [],
   "source": [
    "cr_loan_prep = pd.read_csv(\"cr_loan_prep.csv\", index_col=0)"
   ]
  },
  {
   "cell_type": "code",
   "execution_count": 3,
   "metadata": {},
   "outputs": [],
   "source": [
    "X = cr_loan_prep.drop(columns=['loan_status'])\n",
    "y = cr_loan_prep['loan_status']\n",
    "\n",
    "# Use test_train_split to create the training and test sets\n",
    "X_train, X_test, y_train, y_test = train_test_split(X, y, test_size=.4, random_state=123)\n",
    "\n",
    "# Train a model\n",
    "clf_lr = LogisticRegression(solver='lbfgs').fit(X_train, np.ravel(y_train))\n",
    "clf_gbt = xgb.XGBClassifier().fit(X_train, np.ravel(y_train))\n",
    "\n",
    "# Predict with a model\n",
    "lr_proba = clf_lr.predict_proba(X_test)\n",
    "gbt_proba = clf_gbt.predict_proba(X_test)\n",
    "lr_preds = clf_lr.predict(X_test)\n",
    "gbt_preds = clf_gbt.predict(X_test)\n",
    "\n",
    "preds_df_lr = pd.concat([pd.Series(lr_proba[:,1]), pd.Series(lr_preds)], axis = 1)\n",
    "preds_df_lr.rename(columns={0:'prob_default', 1:'loan_status'}, inplace=True)\n",
    "preds_df_lr['loan_status'] = preds_df_lr['prob_default'].apply(lambda x: 1 if x > 0.4 else 0)\n",
    "preds_df_gbt = pd.concat([pd.Series(gbt_proba[:,1]), pd.Series(gbt_preds)], axis = 1)\n",
    "preds_df_gbt.rename(columns={0:'prob_default', 1:'loan_status'}, inplace=True)"
   ]
  },
  {
   "cell_type": "code",
   "execution_count": 4,
   "metadata": {},
   "outputs": [
    {
     "name": "stdout",
     "output_type": "stream",
     "text": [
      "              precision    recall  f1-score   support\n",
      "\n",
      " Non-Default       0.85      0.93      0.89      9177\n",
      "     Default       0.63      0.44      0.52      2609\n",
      "\n",
      "    accuracy                           0.82     11786\n",
      "   macro avg       0.74      0.68      0.70     11786\n",
      "weighted avg       0.80      0.82      0.81     11786\n",
      "\n",
      "              precision    recall  f1-score   support\n",
      "\n",
      " Non-Default       0.93      0.99      0.96      9177\n",
      "     Default       0.94      0.73      0.82      2609\n",
      "\n",
      "    accuracy                           0.93     11786\n",
      "   macro avg       0.94      0.86      0.89     11786\n",
      "weighted avg       0.93      0.93      0.93     11786\n",
      "\n",
      "0.7041770023175149\n",
      "0.8899544074006942\n"
     ]
    }
   ],
   "source": [
    "# Print the logistic regression classification report\n",
    "target_names = ['Non-Default', 'Default']\n",
    "print(classification_report(y_test, preds_df_lr['loan_status'], target_names=target_names))\n",
    "\n",
    "# Print the gradient boosted tree classification report\n",
    "print(classification_report(y_test, preds_df_gbt['loan_status'], target_names=target_names))\n",
    "\n",
    "# Print the default F-1 scores for the logistic regression\n",
    "print(precision_recall_fscore_support(y_test, preds_df_lr['loan_status'], average = 'macro')[2])\n",
    "\n",
    "# Print the default F-1 scores for the gradient boosted tree\n",
    "print(precision_recall_fscore_support(y_test, preds_df_gbt['loan_status'], average = 'macro')[2])"
   ]
  },
  {
   "cell_type": "markdown",
   "metadata": {},
   "source": [
    "There is a noticeable difference between these two models. This means the tree model is better in all of these aspects. Let's check the ROC curve."
   ]
  },
  {
   "cell_type": "markdown",
   "metadata": {},
   "source": [
    "# Comparing with ROCs\n",
    "\n",
    "We should use ROC charts and AUC scores to compare the two models. Sometimes, visuals can really help we and potential business users understand the differences between the various models under consideration.\n",
    "\n",
    "With the graph in mind, we will be more equipped to make a decision. The lift is how far the curve is from the random prediction. The AUC is the area between the curve and the random prediction. The model with more lift, and a higher AUC, is the one that's better at making predictions accurately."
   ]
  },
  {
   "cell_type": "code",
   "execution_count": 5,
   "metadata": {},
   "outputs": [
    {
     "data": {
      "image/png": "[encoded data removed]",
      "text/plain": [
       "<Figure size 432x288 with 1 Axes>"
      ]
     },
     "metadata": {
      "needs_background": "light"
     },
     "output_type": "display_data"
    }
   ],
   "source": [
    "# ROC chart components\n",
    "fallout_lr, sensitivity_lr, thresholds_lr = roc_curve(y_test, lr_proba[:,1])\n",
    "fallout_gbt, sensitivity_gbt, thresholds_gbt = roc_curve(y_test, gbt_proba[:,1])\n",
    "\n",
    "# ROC Chart with both\n",
    "plt.plot(fallout_lr, sensitivity_lr, color = 'blue', label='%s' % 'Logistic Regression')\n",
    "plt.plot(fallout_gbt, sensitivity_gbt, color = 'green', label='%s' % 'GBT')\n",
    "plt.plot([0, 1], [0, 1], linestyle='--', label='%s' % 'Random Prediction')\n",
    "plt.title(\"ROC Chart for LR and GBT on the Probability of Default\")\n",
    "plt.xlabel('Fall-out')\n",
    "plt.ylabel('Sensitivity')\n",
    "plt.legend()\n",
    "plt.show()"
   ]
  },
  {
   "cell_type": "code",
   "execution_count": 6,
   "metadata": {},
   "outputs": [
    {
     "name": "stdout",
     "output_type": "stream",
     "text": [
      "Logistic Regression AUC Score: 0.76\n",
      "Gradient Boosted Tree AUC Score: 0.95\n"
     ]
    }
   ],
   "source": [
    "# Print the logistic regression AUC with formatting\n",
    "print(\"Logistic Regression AUC Score: %0.2f\" % roc_auc_score(y_test, lr_proba[:,1]))\n",
    "\n",
    "# Print the gradient boosted tree AUC with formatting\n",
    "print(\"Gradient Boosted Tree AUC Score: %0.2f\" % roc_auc_score(y_test, gbt_proba[:,1]))"
   ]
  },
  {
   "cell_type": "markdown",
   "metadata": {},
   "source": [
    "Look at the ROC curve for the gradient boosted tree. Not only is the lift much higher, the calculated AUC score is also quite a bit higher. It's beginning to look like the gradient boosted tree is best. Let's check the calibration to be sure."
   ]
  },
  {
   "cell_type": "markdown",
   "metadata": {},
   "source": [
    "# Calibration curves"
   ]
  },
  {
   "cell_type": "code",
   "execution_count": 7,
   "metadata": {},
   "outputs": [],
   "source": [
    "frac_of_pos_lr, mean_pred_val_lr = calibration_curve(y_test, lr_proba[:,1], n_bins=20)\n",
    "frac_of_pos_gbt, mean_pred_val_gbt = calibration_curve(y_test, gbt_proba[:,1], n_bins=20)"
   ]
  },
  {
   "cell_type": "code",
   "execution_count": 8,
   "metadata": {},
   "outputs": [
    {
     "data": {
      "image/png": "[encoded data removed]",
      "text/plain": [
       "<Figure size 432x288 with 1 Axes>"
      ]
     },
     "metadata": {
      "needs_background": "light"
     },
     "output_type": "display_data"
    }
   ],
   "source": [
    "# Add the calibration curve for the gradient boosted tree\n",
    "plt.plot([0, 1], [0, 1], 'k:', label='Perfectly calibrated')    \n",
    "plt.plot(mean_pred_val_lr, frac_of_pos_lr,\n",
    "         's-', label='%s' % 'Logistic Regression')\n",
    "plt.plot(mean_pred_val_gbt, frac_of_pos_gbt,\n",
    "         's-', label='%s' % 'Gradient Boosted tree')\n",
    "plt.ylabel('Fraction of positives')\n",
    "plt.xlabel('Average Predicted Probability')\n",
    "plt.legend()\n",
    "plt.title('Calibration Curve')\n",
    "plt.show()"
   ]
  },
  {
   "cell_type": "markdown",
   "metadata": {},
   "source": [
    "Notice that for the logistic regression, the calibration for probabilities starts off great but then gets more erratic as it the average probability approaches 0.4. Something similar happens to the gradient boosted tree around 0.5, but the model eventually stabilizes. We will be focusing on only the gbt model from now on."
   ]
  },
  {
   "cell_type": "markdown",
   "metadata": {},
   "source": [
    "# Acceptance rates\n",
    "\n",
    "Setting an acceptance rate and calculating the threshold for that rate can be used to set the percentage of new loans we want to accept."
   ]
  },
  {
   "cell_type": "code",
   "execution_count": 9,
   "metadata": {},
   "outputs": [
    {
     "name": "stdout",
     "output_type": "stream",
     "text": [
      "count    11786.000000\n",
      "mean         0.213060\n",
      "std          0.344005\n",
      "min          0.000003\n",
      "25%          0.009149\n",
      "50%          0.042211\n",
      "75%          0.183035\n",
      "max          0.999994\n",
      "Name: prob_default, dtype: float64\n",
      "0    10018\n",
      "1     1768\n",
      "Name: pred_loan_status, dtype: int64\n"
     ]
    }
   ],
   "source": [
    "preds = pd.DataFrame(gbt_proba[:,1], columns=['prob_default'])\n",
    "\n",
    "# Check the statistics of the probabilities of default\n",
    "print(preds['prob_default'].describe())\n",
    "\n",
    "# Calculate the threshold for a 85% acceptance rate\n",
    "threshold_85 = np.quantile(preds['prob_default'], 0.85)\n",
    "\n",
    "# Apply acceptance rate threshold\n",
    "preds['pred_loan_status'] = preds['prob_default'].apply(lambda x: 1 if x > threshold_85 else 0)\n",
    "\n",
    "# Print the counts of loan status after the threshold\n",
    "print(preds['pred_loan_status'].value_counts())"
   ]
  },
  {
   "cell_type": "markdown",
   "metadata": {},
   "source": [
    "In the results of *.describe()* we see how it's not until 75% that we start to see double-digit numbers, this occurs because the majority of our test set is non-default loans."
   ]
  },
  {
   "cell_type": "markdown",
   "metadata": {},
   "source": [
    "# Visualizing quantiles of acceptance"
   ]
  },
  {
   "cell_type": "code",
   "execution_count": 10,
   "metadata": {},
   "outputs": [
    {
     "data": {
      "image/png": "[encoded data removed]",
      "text/plain": [
       "<Figure size 432x288 with 1 Axes>"
      ]
     },
     "metadata": {
      "needs_background": "light"
     },
     "output_type": "display_data"
    }
   ],
   "source": [
    "# Plot the predicted probabilities of default\n",
    "plt.hist(gbt_proba[:,1], color = 'blue', bins = 40)\n",
    "\n",
    "# Calculate the threshold with quantile\n",
    "threshold = np.quantile(gbt_proba[:,1], 0.85)\n",
    "\n",
    "# Add a reference line to the plot for the threshold\n",
    "plt.axvline(x = threshold, color = 'red')\n",
    "plt.show()"
   ]
  },
  {
   "cell_type": "markdown",
   "metadata": {},
   "source": [
    "Here, we can see where the threshold is on the range of predicted probabilities. Not only can we see how many loans will be accepted (left side), but also how many loans will be rejected (right side)."
   ]
  },
  {
   "cell_type": "markdown",
   "metadata": {},
   "source": [
    "# Bad rates"
   ]
  },
  {
   "cell_type": "code",
   "execution_count": 11,
   "metadata": {},
   "outputs": [],
   "source": [
    "test_pred_df = preds_df_gbt\n",
    "test_pred_df.rename(columns={'loan_status':'pred_loan_status'}, inplace=True)\n",
    "test_pred_df['true_loan_status'] = y_test.values"
   ]
  },
  {
   "cell_type": "code",
   "execution_count": 12,
   "metadata": {},
   "outputs": [
    {
     "name": "stdout",
     "output_type": "stream",
     "text": [
      "   prob_default  pred_loan_status  true_loan_status\n",
      "0      0.011106                 0                 0\n",
      "1      0.167985                 0                 0\n",
      "2      0.002628                 0                 0\n",
      "3      0.063230                 0                 0\n",
      "4      0.189694                 0                 0\n",
      "0.07199918066366243\n"
     ]
    }
   ],
   "source": [
    "# Print the top 5 rows of the new data frame\n",
    "print(test_pred_df.head())\n",
    "\n",
    "# Create a subset of only accepted loans\n",
    "accepted_loans = test_pred_df[test_pred_df['pred_loan_status'] == 0]\n",
    "\n",
    "# Calculate the bad rate\n",
    "print(np.sum(accepted_loans['true_loan_status']) / accepted_loans['true_loan_status'].count())"
   ]
  },
  {
   "cell_type": "markdown",
   "metadata": {},
   "source": [
    "This bad rate doesn't look half bad! The bad rate with the threshold set by the 85% quantile() is about 7.2%. This means that of all the loans we've decided to accept from the test set, only 7.2% were actual defaults! If we accepted all loans, the percentage of defaults would be around 22%."
   ]
  },
  {
   "cell_type": "markdown",
   "metadata": {},
   "source": [
    "# Acceptance rate impact"
   ]
  },
  {
   "cell_type": "code",
   "execution_count": 13,
   "metadata": {},
   "outputs": [
    {
     "name": "stdout",
     "output_type": "stream",
     "text": [
      "count    11786.000000\n",
      "mean      9534.182505\n",
      "std       6247.338130\n",
      "min        500.000000\n",
      "25%       5000.000000\n",
      "50%       8000.000000\n",
      "75%      12000.000000\n",
      "max      35000.000000\n",
      "Name: loan_amnt, dtype: float64\n",
      "pred_loan_status              0              1\n",
      "true_loan_status                              \n",
      "0                $86,389,227.67  $1,105,965.17\n",
      "1                 $6,702,530.30 $18,172,151.85\n"
     ]
    }
   ],
   "source": [
    "test_pred_df['loan_amnt'] = X_test['loan_amnt'].values\n",
    "\n",
    "# Print the statistics of the loan amount column\n",
    "print(test_pred_df['loan_amnt'].describe())\n",
    "\n",
    "# Store the average loan amount\n",
    "avg_loan = np.mean(test_pred_df['loan_amnt'])\n",
    "\n",
    "# Set the formatting for currency, and print the cross tab\n",
    "pd.options.display.float_format = '${:,.2f}'.format\n",
    "print(pd.crosstab(test_pred_df['true_loan_status'],\n",
    "                 test_pred_df['pred_loan_status']).apply(lambda x: x * avg_loan, axis = 0))"
   ]
  },
  {
   "cell_type": "markdown",
   "metadata": {},
   "source": [
    "With this, we can see that our bad rate of about 7.2% represents an estimated loan value of about 6.7 million dollars. This may seem like a lot at first, but compare it to the total value of non-default loans!"
   ]
  },
  {
   "cell_type": "markdown",
   "metadata": {},
   "source": [
    "# Making the strategy table\n",
    "\n",
    "Before we implement a strategy, we should first create a strategy table containing all the possible acceptance rates we wish to look at along with their associated bad rates and threshold values. This way, we can begin to see each part of your strategy and how it affects our portfolio."
   ]
  },
  {
   "cell_type": "code",
   "execution_count": 14,
   "metadata": {},
   "outputs": [],
   "source": [
    "accept_rates = [1, 0.95, 0.9, 0.85, 0.8, 0.75, 0.7, 0.65, 0.6, 0.55, 0.5, 0.45, 0.4, 0.35, 0.3, 0.25, 0.2, 0.15, 0.1, 0.05]\n",
    "thresholds = []\n",
    "bad_rates = []"
   ]
  },
  {
   "cell_type": "code",
   "execution_count": 15,
   "metadata": {},
   "outputs": [],
   "source": [
    "# Populate the arrays for the strategy table with a for loop\n",
    "for rate in accept_rates:\n",
    "    # Calculate the threshold for the acceptance rate\n",
    "    thresh = np.quantile(preds['prob_default'], rate).round(3)\n",
    "    # Add the threshold value to the list of thresholds\n",
    "    thresholds.append(np.quantile(preds['prob_default'], rate).round(3))\n",
    "    # Reassign the loan_status value using the threshold\n",
    "    test_pred_df['pred_loan_status'] = test_pred_df['prob_default'].apply(lambda x: 1 if x > thresh else 0)\n",
    "    # Create a set of accepted loans using this acceptance rate\n",
    "    accepted_loans = test_pred_df[test_pred_df['pred_loan_status'] == 0]\n",
    "    # Calculate and append the bad rate using the acceptance rate\n",
    "    bad_rates.append(np.sum((accepted_loans['true_loan_status']) / len(accepted_loans['true_loan_status'])).round(3))"
   ]
  },
  {
   "cell_type": "code",
   "execution_count": 16,
   "metadata": {},
   "outputs": [
    {
     "name": "stdout",
     "output_type": "stream",
     "text": [
      "    Acceptance Rate  Threshold  Bad Rate\n",
      "0              1.00      1.000     0.221\n",
      "1              0.95      0.995     0.179\n",
      "2              0.90      0.983     0.134\n",
      "3              0.85      0.857     0.085\n",
      "4              0.80      0.309     0.062\n",
      "5              0.75      0.183     0.050\n",
      "6              0.70      0.125     0.042\n",
      "7              0.65      0.093     0.035\n",
      "8              0.60      0.070     0.029\n",
      "9              0.55      0.054     0.024\n",
      "10             0.50      0.042     0.021\n",
      "11             0.45      0.033     0.019\n",
      "12             0.40      0.025     0.016\n",
      "13             0.35      0.019     0.013\n",
      "14             0.30      0.013     0.009\n",
      "15             0.25      0.009     0.006\n",
      "16             0.20      0.005     0.003\n",
      "17             0.15      0.002     0.000\n",
      "18             0.10      0.001     0.000\n",
      "19             0.05      0.000     0.000\n"
     ]
    }
   ],
   "source": [
    "pd.options.display.float_format = None\n",
    "# Create a data frame of the strategy table\n",
    "strat_df = pd.DataFrame(zip(accept_rates, thresholds, bad_rates),\n",
    "                        columns = ['Acceptance Rate','Threshold','Bad Rate'])\n",
    "\n",
    "# Print the entire table\n",
    "print(strat_df)"
   ]
  },
  {
   "cell_type": "markdown",
   "metadata": {},
   "source": [
    "This uses our specific predictions on the credit data, and can be used to see the acceptance rates, bad rates, and financial impact all at once. One of these values has the highest estimated value."
   ]
  },
  {
   "cell_type": "markdown",
   "metadata": {},
   "source": [
    "# Visualizing the strategy\n",
    "\n",
    "We should check at the distribution of each column with a box plot. If the distribution of Acceptance Rate looks the same as the Bad Rate column, that could be a problem. That means that the model's calibration is likely much worse than you thought.\n",
    "\n",
    "We can also visualize the strategy curve with a line plot. The Acceptance Rate would be the independent variable with the Bad Rate as the dependent variable."
   ]
  },
  {
   "cell_type": "code",
   "execution_count": 17,
   "metadata": {},
   "outputs": [
    {
     "data": {
      "image/png": "[encoded data removed]",
      "text/plain": [
       "<Figure size 432x288 with 1 Axes>"
      ]
     },
     "metadata": {
      "needs_background": "light"
     },
     "output_type": "display_data"
    }
   ],
   "source": [
    "# Visualize the distributions in the strategy table with a boxplot\n",
    "strat_df.boxplot()\n",
    "plt.show()"
   ]
  },
  {
   "cell_type": "code",
   "execution_count": 18,
   "metadata": {},
   "outputs": [
    {
     "data": {
      "image/png": "[encoded data removed]",
      "text/plain": [
       "<Figure size 432x288 with 1 Axes>"
      ]
     },
     "metadata": {
      "needs_background": "light"
     },
     "output_type": "display_data"
    }
   ],
   "source": [
    "# Plot the strategy curve\n",
    "plt.plot(strat_df['Acceptance Rate'], strat_df['Bad Rate'])\n",
    "plt.xlabel('Acceptance Rate')\n",
    "plt.ylabel('Bad Rate')\n",
    "plt.title('Acceptance and Bad Rates')\n",
    "plt.axes().yaxis.grid()\n",
    "plt.axes().xaxis.grid()\n",
    "plt.show()"
   ]
  },
  {
   "cell_type": "markdown",
   "metadata": {},
   "source": [
    "The boxplot shows us the distribution for each column. Look at the strategy curve. The bad rates are very low up until the acceptance rate *0.6* where they suddenly increase. This suggests that many of the accepted defaults may have a *prob_default* value between *0.6* and *0.8*."
   ]
  },
  {
   "cell_type": "markdown",
   "metadata": {},
   "source": [
    "# Estimated value profiling\n",
    "\n",
    "| Column      | Description |\n",
    "| :---        | :---        |\n",
    "| Num Accepted Loans      | The number of accepted loans based on the threshold       |\n",
    "| Avg Loan Amnt   | The average loan amount of the entire test set        |\n",
    "| Estimated value   | The estimated net value of non-defaults minus defaults        |"
   ]
  },
  {
   "cell_type": "code",
   "execution_count": 19,
   "metadata": {},
   "outputs": [
    {
     "name": "stdout",
     "output_type": "stream",
     "text": [
      "    Acceptance Rate  Threshold  Bad Rate\n",
      "0              1.00      1.000     0.221\n",
      "1              0.95      0.995     0.179\n",
      "2              0.90      0.983     0.134\n",
      "3              0.85      0.857     0.085\n",
      "4              0.80      0.309     0.062\n",
      "5              0.75      0.183     0.050\n",
      "6              0.70      0.125     0.042\n",
      "7              0.65      0.093     0.035\n",
      "8              0.60      0.070     0.029\n",
      "9              0.55      0.054     0.024\n",
      "10             0.50      0.042     0.021\n",
      "11             0.45      0.033     0.019\n",
      "12             0.40      0.025     0.016\n",
      "13             0.35      0.019     0.013\n",
      "14             0.30      0.013     0.009\n",
      "15             0.25      0.009     0.006\n",
      "16             0.20      0.005     0.003\n",
      "17             0.15      0.002     0.000\n",
      "18             0.10      0.001     0.000\n",
      "19             0.05      0.000     0.000\n"
     ]
    }
   ],
   "source": [
    "# Print the contents of the strategy df\n",
    "print(strat_df)"
   ]
  },
  {
   "cell_type": "code",
   "execution_count": 20,
   "metadata": {},
   "outputs": [],
   "source": [
    "strat_df['Num Accepted Loans'] = (strat_df['Threshold']*X_test.shape[0]).round(0)\n",
    "strat_df['Avg Loan Amnt'] = X_test['loan_amnt'].mean()\n",
    "strat_df['Estimated Value'] = (1-strat_df['Bad Rate'])*strat_df['Num Accepted Loans']*strat_df['Avg Loan Amnt']"
   ]
  },
  {
   "cell_type": "code",
   "execution_count": 21,
   "metadata": {},
   "outputs": [
    {
     "data": {
      "image/png": "[encoded data removed]",
      "text/plain": [
       "<Figure size 432x288 with 1 Axes>"
      ]
     },
     "metadata": {
      "needs_background": "light"
     },
     "output_type": "display_data"
    }
   ],
   "source": [
    "# Create a line plot of estimated value\n",
    "plt.plot(strat_df['Acceptance Rate'],strat_df['Estimated Value'])\n",
    "plt.title('Estimated Value by Acceptance Rate')\n",
    "plt.xlabel('Acceptance Rate')\n",
    "plt.ylabel('Estimated Value')\n",
    "plt.axes().yaxis.grid()\n",
    "plt.show()"
   ]
  },
  {
   "cell_type": "code",
   "execution_count": 22,
   "metadata": {},
   "outputs": [
    {
     "name": "stdout",
     "output_type": "stream",
     "text": [
      "   Acceptance Rate  Threshold  Bad Rate  Num Accepted Loans  Avg Loan Amnt  \\\n",
      "2              0.9      0.983     0.134             11586.0    9534.182505   \n",
      "\n",
      "   Estimated Value  \n",
      "2     9.566099e+07  \n"
     ]
    }
   ],
   "source": [
    "# Print the row with the max estimated value\n",
    "print(strat_df.loc[strat_df['Estimated Value'] == np.max(strat_df['Estimated Value'])])"
   ]
  },
  {
   "cell_type": "markdown",
   "metadata": {},
   "source": [
    "With our credit data and our estimated averag loan value, we clearly see that the acceptance rate 0.9 has the highest potential estimated value. Normally, the allowable bad rate is set, but we can use analyses like this to explore other options."
   ]
  },
  {
   "cell_type": "markdown",
   "metadata": {},
   "source": [
    "# Total expected loss\n",
    "\n",
    "It's time to estimate the total expected loss given all our decisions. The data frame *test_pred_df* has the probability of default for each loan and that loan's value. Use these two values to calculate the expected loss for each loan. Then, we can sum those values and get the total expected loss.\n",
    "\n",
    "We will assume that the exposure is the full value of the loan, and the loss given default is 100%. This means that a default on each the loan is a loss of the entire amount."
   ]
  },
  {
   "cell_type": "code",
   "execution_count": 23,
   "metadata": {},
   "outputs": [
    {
     "name": "stdout",
     "output_type": "stream",
     "text": [
      "   prob_default  pred_loan_status  loan_amnt  loss_given_default\n",
      "0      0.011106                 1       9000                 1.0\n",
      "1      0.167985                 1       4000                 1.0\n",
      "2      0.002628                 1       6300                 1.0\n",
      "3      0.063230                 1      12400                 1.0\n",
      "4      0.189694                 1       7500                 1.0\n",
      "Total expected loss:  $27,044,734.57\n"
     ]
    }
   ],
   "source": [
    "test_pred_df['loss_given_default'] = 1.0\n",
    "test_pred_df.drop(columns=['true_loan_status'], inplace=True)\n",
    "\n",
    "# Print the first five rows of the data frame\n",
    "print(test_pred_df.head())\n",
    "\n",
    "# Calculate the bank's expected loss and assign it to a new column\n",
    "test_pred_df['expected_loss'] = test_pred_df['prob_default'] * test_pred_df['loan_amnt'] * test_pred_df['loss_given_default']\n",
    "\n",
    "# Calculate the total expected loss to two decimal places\n",
    "tot_exp_loss = round(np.sum(test_pred_df['expected_loss']),2)\n",
    "\n",
    "# Print the total expected loss\n",
    "print('Total expected loss: ', '${:,.2f}'.format(tot_exp_loss))"
   ]
  },
  {
   "cell_type": "markdown",
   "metadata": {},
   "source": [
    "This is the total expected loss for the entire portfolio using the gradient boosted tree. 27 million may seem like a lot, but the total expected loss would have been over 28 million with the logistic regression."
   ]
  }
 ],
 "metadata": {
  "kernelspec": {
   "display_name": "Python 3",
   "language": "python",
   "name": "python3"
  },
  "language_info": {
   "codemirror_mode": {
    "name": "ipython",
    "version": 3
   },
   "file_extension": ".py",
   "mimetype": "text/x-python",
   "name": "python",
   "nbconvert_exporter": "python",
   "pygments_lexer": "ipython3",
   "version": "3.7.6"
  }
 },
 "nbformat": 4,
 "nbformat_minor": 4
}
